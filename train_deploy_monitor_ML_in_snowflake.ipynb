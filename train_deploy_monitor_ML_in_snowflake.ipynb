{
 "metadata": {
  "kernelspec": {
   "display_name": "Python37 (ipykernel)",
   "language": "python",
   "name": "python3"
  },
  "language_info": {
   "codemirror_mode": {
    "name": "ipython",
    "version": 3
   },
   "file_extension": ".py",
   "mimetype": "text/x-python",
   "name": "python",
   "nbconvert_exporter": "python",
   "pygments_lexer": "ipython3",
   "version": "3.9.7"
  }
 },
 "nbformat_minor": 4,
 "nbformat": 4,
 "cells": [
  {
   "cell_type": "code",
   "execution_count": 1,
   "metadata": {
    "name": "imports_and_session",
    "language": "python",
    "collapsed": false,
    "resultHeight": 84
   },
   "outputs": [],
   "source": "import pandas as pd\nimport numpy as np\nimport sklearn\nimport math\nimport pickle\nimport datetime\n\n# Snowpark ML\nfrom snowflake.ml.modeling.xgboost import XGBRegressor, XGBClassifier\nfrom snowflake.ml._internal.utils import identifier\nfrom snowflake.ml.registry import Registry\n\n#Snowflake feature store\nfrom snowflake.ml.feature_store import FeatureStore, FeatureView, Entity, CreationMode\n\n# Snowpark session\nfrom snowflake.snowpark import DataFrame\nfrom snowflake.snowpark.functions import col, to_timestamp\nfrom snowflake.snowpark.types import IntegerType\n\n\n\n# We can also use Snowpark for our analyses!\nfrom snowflake.snowpark.context import get_active_session\nsession = get_active_session()\nsession\n",
   "id": "ce110000-1111-2222-3333-ffffff000000"
  },
  {
   "cell_type": "code",
   "id": "f8900d1d-a1f2-419b-ae7e-b194f268d904",
   "metadata": {
    "language": "python",
    "name": "read_raw_data",
    "resultHeight": 223,
    "collapsed": false,
    "codeCollapsed": false
   },
   "outputs": [],
   "source": "df = session.table(\"MORTGAGE_LENDING_RAW\")\ndf.show(5)",
   "execution_count": null
  },
  {
   "cell_type": "code",
   "id": "a6654de7-6407-4ffe-a214-fd66078397ef",
   "metadata": {
    "language": "python",
    "name": "see_timespan",
    "collapsed": false,
    "resultHeight": 111,
    "codeCollapsed": false
   },
   "outputs": [],
   "source": "from snowflake.snowpark.functions import min, max\ndf.select(min('TIMESTAMP'), max('TIMESTAMP'))",
   "execution_count": null
  },
  {
   "cell_type": "code",
   "id": "b355c0c4-9dc6-4faf-86b7-24d8d559e453",
   "metadata": {
    "language": "python",
    "name": "define_features",
    "resultHeight": 0,
    "collapsed": false,
    "codeCollapsed": false
   },
   "outputs": [],
   "source": "#Create a dict with keys for feature names and values containing transform code\n\nfeature_eng_dict = dict()\n\nfeature_eng_dict[\"TIMESTAMP\"] = to_timestamp(\"TIMESTAMP\")\nfeature_eng_dict[\"LOAN_AMOUNT\"] = col(\"LOAN_AMOUNT_000s\")*1000\nfeature_eng_dict[\"INCOME\"] = col(\"APPLICANT_INCOME_000s\")*1000\nfeature_eng_dict[\"HIGH_INCOME_FLAG\"] = (col(\"INCOME\")>col(\"HUD_MEDIAN_FAMILY_INCOME\")).astype(IntegerType())\n\n\ndf = df.with_columns(feature_eng_dict.keys(), feature_eng_dict.values())",
   "execution_count": null
  },
  {
   "cell_type": "code",
   "id": "b6c4ead8-25ac-46cc-9bd9-17eac2f796d5",
   "metadata": {
    "language": "python",
    "name": "df_explain",
    "resultHeight": 312,
    "collapsed": false,
    "codeCollapsed": false
   },
   "outputs": [],
   "source": "df.explain()",
   "execution_count": null
  },
  {
   "cell_type": "code",
   "id": "abacdc71-9f2c-419f-8d50-3e8f89be367f",
   "metadata": {
    "language": "python",
    "name": "define_feature_store",
    "collapsed": false,
    "resultHeight": 0,
    "codeCollapsed": false
   },
   "outputs": [],
   "source": "fs = FeatureStore(\n    session=session, \n    database=session.get_current_database(), \n    name=session.get_current_schema(), \n    default_warehouse=session.get_current_warehouse(),\n    creation_mode=CreationMode.CREATE_IF_NOT_EXIST\n)",
   "execution_count": null
  },
  {
   "cell_type": "code",
   "id": "67480d6a-183f-4373-aaa8-d3ed8e80e11d",
   "metadata": {
    "language": "python",
    "name": "list_entities",
    "resultHeight": 111,
    "collapsed": false,
    "codeCollapsed": false
   },
   "outputs": [],
   "source": "fs.list_entities()",
   "execution_count": null
  },
  {
   "cell_type": "code",
   "id": "e91d6d39-7819-4825-8729-a3f19ca5cdf7",
   "metadata": {
    "language": "python",
    "name": "load_or_register_entity",
    "resultHeight": 38,
    "collapsed": false,
    "codeCollapsed": false
   },
   "outputs": [],
   "source": "#First try to retrieve an existing entity definition, if not define a new one and register\ntry:\n    #retrieve existing entity\n    loan_id_entity = fs.get_entity('LOAN_ID_ENTITY') \n    print('Retrieved existing entity')\nexcept:\n    #define new entity\n    loan_id_entity = Entity(\n        name = \"LOAN_ID_ENTITY\",\n        join_keys = [\"LOAN_ID\"],\n        desc = \"Features defined on a per loan level\")\n    #register\n    fs.register_entity(loan_id_entity)\n    print(\"Registered new entity\")",
   "execution_count": null
  },
  {
   "cell_type": "code",
   "id": "2820463f-0ea7-43ea-a500-9b034011887d",
   "metadata": {
    "language": "python",
    "name": "create_feature_df",
    "resultHeight": 217,
    "collapsed": false,
    "codeCollapsed": false
   },
   "outputs": [],
   "source": "#Create a dataframe with just the ID, timestamp, and engineered features. We will use this to define our feature view\nfeature_df = df.select([\"LOAN_ID\"]+list(feature_eng_dict.keys()))\nfeature_df.show(5)",
   "execution_count": null
  },
  {
   "cell_type": "code",
   "id": "2b53364f-90c4-45b4-94ee-b2fde6f93475",
   "metadata": {
    "language": "python",
    "name": "feature_veiw_creation",
    "collapsed": false,
    "resultHeight": 0,
    "codeCollapsed": false
   },
   "outputs": [],
   "source": "#define and register feature view\nloan_fv = FeatureView(\n    name=\"Mortgage_Feature_View\",\n    entities=[loan_id_entity],\n    feature_df=feature_df,\n    timestamp_col=\"TIMESTAMP\")\n\nloan_fv = fs.register_feature_view(loan_fv, version=\"1\", overwrite=True)",
   "execution_count": null
  },
  {
   "cell_type": "code",
   "id": "18c3225b-b936-4aa7-81f2-27bbaeee1c0f",
   "metadata": {
    "language": "python",
    "name": "show_feature_views",
    "resultHeight": 111,
    "collapsed": false,
    "codeCollapsed": false
   },
   "outputs": [],
   "source": "fs.list_feature_views()",
   "execution_count": null
  },
  {
   "cell_type": "code",
   "id": "535efc80-e4fc-41c5-98eb-5b5450bcf199",
   "metadata": {
    "language": "python",
    "name": "generate_dataset",
    "resultHeight": 0,
    "collapsed": false,
    "codeCollapsed": false
   },
   "outputs": [],
   "source": "ds = fs.generate_dataset(\n    name=\"MORTGAGE_DATASET_V1\",\n    spine_df=df.drop(\"LOAN_AMOUNT_000S\", \"LOAN_AMOUNT\", \"APPLICANT_INCOME_000S\", \"INCOME\", \"HIGH_INCOME_FLAG\"), #only need the features used to fetch rest of feature view\n    features=[loan_fv],\n    spine_timestamp_col=\"TIMESTAMP\",\n    spine_label_cols=[\"MORTGAGERESPONSE\"]\n)",
   "execution_count": null
  },
  {
   "cell_type": "code",
   "id": "ecdaa537-3fb9-476c-9153-3236edfdfcb3",
   "metadata": {
    "language": "python",
    "name": "convert_dataset_to_snowpark_and_pandas",
    "resultHeight": 239,
    "collapsed": false,
    "codeCollapsed": false
   },
   "outputs": [],
   "source": "ds_sp = ds.read.to_snowpark_dataframe()\nds_sp.show(5)",
   "execution_count": null
  },
  {
   "cell_type": "code",
   "id": "b5e17036-7a69-4915-b025-49c900aeb46b",
   "metadata": {
    "language": "python",
    "name": "one_hot_encoding",
    "collapsed": false,
    "resultHeight": 360,
    "codeCollapsed": false
   },
   "outputs": [],
   "source": "import snowflake.ml.modeling.preprocessing as snowml\nfrom snowflake.snowpark.types import StringType\n\nOHE_COLS = ds_sp.select([col.name for col in ds_sp.schema if col.datatype ==StringType()]).columns\nOHE_POST_COLS = [i+\"_OHE\" for i in OHE_COLS]\n\n\n# Encode categoricals to numeric columns\nsnowml_ohe = snowml.OneHotEncoder(input_cols=OHE_COLS, output_cols = OHE_COLS, drop_input_cols=True)\nds_sp_ohe = snowml_ohe.fit(ds_sp).transform(ds_sp)\nds_sp_ohe.columns",
   "execution_count": null
  },
  {
   "cell_type": "code",
   "id": "d834f6f3-ce15-405e-8fec-1d1bb5c224a6",
   "metadata": {
    "language": "python",
    "name": "train_test_split",
    "resultHeight": 0,
    "collapsed": false,
    "codeCollapsed": false
   },
   "outputs": [],
   "source": "train, test = ds_sp_ohe.random_split(weights=[0.70, 0.30], seed=0)",
   "execution_count": null
  },
  {
   "cell_type": "code",
   "id": "a8ff103e-5314-4e95-87ba-d784b1102f36",
   "metadata": {
    "language": "python",
    "name": "fill_na",
    "resultHeight": 0,
    "collapsed": false,
    "codeCollapsed": false
   },
   "outputs": [],
   "source": "train = train.fillna(0)\ntest = test.fillna(0)",
   "execution_count": null
  },
  {
   "cell_type": "code",
   "id": "5e4b5fba-b7a8-47ff-aaf6-076b9e78dcaf",
   "metadata": {
    "language": "python",
    "name": "define_model",
    "resultHeight": 0,
    "collapsed": false,
    "codeCollapsed": false
   },
   "outputs": [],
   "source": "from snowflake.ml.modeling.xgboost import XGBClassifier\n\nsnow_xgb_tree = XGBClassifier(\n    input_cols=train.drop([\"PRICE\", \"TIMESTAMP\", \"LOAN_ID\", \"MORTGAGERESPONSE\"]).columns,\n    label_cols=train.select(\"MORTGAGERESPONSE\").columns,\n    output_cols=\"MORTGAGE_PREDICTION\",\n    # tree_method=\"exact\",\n    # n_estimators=10,\n    booster = 'gbtree'\n)\n\n\nsnow_xgb_linear = XGBClassifier(\n    input_cols=train.drop([\"PRICE\", \"TIMESTAMP\", \"LOAN_ID\", \"MORTGAGERESPONSE\"]).columns,\n    label_cols=train.select(\"MORTGAGERESPONSE\").columns,\n    output_cols=\"MORTGAGE_PREDICTION\",\n    # tree_method=\"hist\",\n    # n_estimators=10\n    booster= 'gblinear'\n)\n",
   "execution_count": null
  },
  {
   "cell_type": "code",
   "id": "644f3295-2496-4fd0-ae95-922a78c5b944",
   "metadata": {
    "language": "python",
    "name": "train_tree",
    "resultHeight": 1759,
    "collapsed": false,
    "codeCollapsed": false
   },
   "outputs": [],
   "source": "snow_xgb_tree.fit(train)",
   "execution_count": null
  },
  {
   "cell_type": "code",
   "id": "61315c5d-703c-4897-ac29-1fd447e774eb",
   "metadata": {
    "language": "python",
    "name": "train_linear",
    "resultHeight": 1759,
    "collapsed": false,
    "codeCollapsed": false
   },
   "outputs": [],
   "source": "snow_xgb_linear.fit(train)",
   "execution_count": null
  },
  {
   "cell_type": "code",
   "id": "5822d1bd-76a2-43b3-ad64-41e9ad2440ac",
   "metadata": {
    "language": "python",
    "name": "compute_predictions_and_perf_metrics",
    "resultHeight": 195,
    "collapsed": false,
    "codeCollapsed": false
   },
   "outputs": [],
   "source": "from sklearn.metrics import f1_score, precision_score, recall_score\ntest_preds_tree = snow_xgb_tree.predict(test).select([\"MORTGAGERESPONSE\", \"MORTGAGE_PREDICTION\"]).to_pandas()\ntest_preds_linear = snow_xgb_linear.predict(test).select([\"MORTGAGERESPONSE\", \"MORTGAGE_PREDICTION\"]).to_pandas()\n\nf1_tree = f1_score(test_preds_tree.MORTGAGERESPONSE, test_preds_tree.MORTGAGE_PREDICTION)\nf1_linear = f1_score(test_preds_linear.MORTGAGERESPONSE, test_preds_linear.MORTGAGE_PREDICTION)\n\nprecision_tree = precision_score(test_preds_tree.MORTGAGERESPONSE, test_preds_tree.MORTGAGE_PREDICTION)\nprecision_linear = precision_score(test_preds_linear.MORTGAGERESPONSE, test_preds_linear.MORTGAGE_PREDICTION)\n\nrecall_tree = recall_score(test_preds_tree.MORTGAGERESPONSE, test_preds_tree.MORTGAGE_PREDICTION)\nrecall_linear = recall_score(test_preds_linear.MORTGAGERESPONSE, test_preds_linear.MORTGAGE_PREDICTION)\n\nprint(f'GB Tree: \\n f1: {f1_tree} \\n precision {precision_tree} \\n recall: {recall_tree}')\nprint(f'GB Linear: \\n f1: {f1_linear} \\n precision {precision_linear} \\n recall: {recall_linear}')\n",
   "execution_count": null
  },
  {
   "cell_type": "markdown",
   "id": "93777778-d2ba-42d5-88c4-a90ba18c5006",
   "metadata": {
    "name": "model_regisry_md",
    "collapsed": false,
    "resultHeight": 74
   },
   "source": "# Model Registry"
  },
  {
   "cell_type": "code",
   "id": "21678e59-deaf-4c2b-b01e-1c59fe31b10a",
   "metadata": {
    "language": "python",
    "name": "define_model_registry",
    "resultHeight": 0,
    "collapsed": false,
    "codeCollapsed": false
   },
   "outputs": [],
   "source": "#Create a snowflake model registry object \nfrom snowflake.ml.registry import Registry\nfrom snowflake.ml._internal.utils import identifier\nfrom snowflake.ml.model import model_signature\n\ndb = identifier._get_unescaped_name(session.get_current_database())\nschema = identifier._get_unescaped_name(session.get_current_schema())\n\n\n# Define model name\nmodel_name = \"MORTGAGE_LENDING_MLOPS_AB_TESTING_DEMO\"\n\n# Create a registry to log the model to\nmodel_registry = Registry(session=session, \n                          database_name=db, \n                          schema_name=schema,\n                          options={\"enable_monitoring\": True})",
   "execution_count": null
  },
  {
   "cell_type": "code",
   "id": "be41c3ac-49f0-4fd9-a557-9d8eb633f602",
   "metadata": {
    "language": "python",
    "name": "register_model_version",
    "collapsed": false,
    "resultHeight": 229
   },
   "outputs": [],
   "source": "#Deploy the tree booster model to the model registry\n\ntree_version_name = 'GB_TREE'\n\ntry:\n    mv_tree = model_registry.get_model(model_name).version(tree_version_name)\n    print(\"Found existing model version!\")\nexcept:\n    print(\"Logging new model version...\")\n    mv_tree = model_registry.log_model(\n        model_name=model_name,\n        model=snow_xgb_tree, \n        version_name=tree_version_name,\n        comment = \"snow ml model built off feature store using tree booster\",\n    )\n    mv_tree.set_metric(metric_name=\"F1_score\", value=f1_tree)\n    mv_tree.set_metric(metric_name=\"Precision_score\", value=precision_tree)\n    mv_tree.set_metric(metric_name=\"Recall_score\", value=recall_tree)\n\n#Now the linear booster model\nlinear_version_name = 'GB_LINEAR'\n\ntry:\n    mv_linear = model_registry.get_model(model_name).version(linear_version_name)\n    print(\"Found existing model version!\")\nexcept:\n    print(\"Logging new model version...\")\n    mv_linear = model_registry.log_model(\n        model_name=model_name,\n        model=snow_xgb_linear, \n        version_name=linear_version_name,\n        comment = \"snow ml model built off feature store using linear booster\",\n    )\n    mv_linear.set_metric(metric_name=\"F1_score\", value=f1_linear)\n    mv_linear.set_metric(metric_name=\"Precision_score\", value=precision_linear)\n    mv_linear.set_metric(metric_name=\"Recall_score\", value=recall_linear)",
   "execution_count": null
  },
  {
   "cell_type": "code",
   "id": "ac4e294e-929d-4399-b2bb-d5d2d1dd043e",
   "metadata": {
    "language": "python",
    "name": "show_models",
    "resultHeight": 111,
    "collapsed": false
   },
   "outputs": [],
   "source": "model_registry.show_models()",
   "execution_count": null
  },
  {
   "cell_type": "code",
   "id": "e3dfb281-9751-48a1-a76e-43ffffd9d099",
   "metadata": {
    "language": "python",
    "name": "show_model_versions",
    "resultHeight": 146,
    "collapsed": false,
    "codeCollapsed": false
   },
   "outputs": [],
   "source": "model_registry.get_model(model_name).show_versions()",
   "execution_count": null
  },
  {
   "cell_type": "code",
   "id": "eb1af8a1-7a92-455e-b9a1-8f2c699dfdeb",
   "metadata": {
    "language": "python",
    "name": "print_model_version_and_metrics",
    "resultHeight": 239,
    "collapsed": false
   },
   "outputs": [],
   "source": "print(mv_tree)\nprint(mv_tree.show_metrics())\nprint(mv_linear)\nprint(mv_linear.show_metrics())",
   "execution_count": null
  },
  {
   "cell_type": "code",
   "id": "8ecdf05c-b3b5-4755-bdff-fd187ef07f58",
   "metadata": {
    "language": "python",
    "name": "show_model_functions",
    "resultHeight": 2133,
    "collapsed": false
   },
   "outputs": [],
   "source": "mv_tree.show_functions()",
   "execution_count": null
  },
  {
   "cell_type": "code",
   "id": "bf495261-a8a7-46be-b9c8-3f099268d154",
   "metadata": {
    "language": "python",
    "name": "predict_from_registry",
    "resultHeight": 351,
    "collapsed": false
   },
   "outputs": [],
   "source": "reg_preds = mv_tree.run(test, function_name = \"predict\")\nreg_preds.show(10)",
   "execution_count": null
  },
  {
   "cell_type": "code",
   "id": "914f5cd6-d254-42d4-a0be-9848c9d09d4a",
   "metadata": {
    "language": "python",
    "name": "reg_explain",
    "resultHeight": 0,
    "collapsed": false
   },
   "outputs": [],
   "source": "shap_vals = mv_tree.run(test.sample(n=1000), function_name=\"explain\")",
   "execution_count": null
  },
  {
   "cell_type": "code",
   "id": "a143a0f3-9b6c-48ab-a1e8-2fd230ce718a",
   "metadata": {
    "language": "python",
    "name": "write_shap_vals_to_pandas",
    "resultHeight": 0,
    "collapsed": false
   },
   "outputs": [],
   "source": "shap_pd = shap_vals.to_pandas()",
   "execution_count": null
  },
  {
   "cell_type": "code",
   "id": "f74e0dcc-a850-474a-b475-f05a77619731",
   "metadata": {
    "language": "python",
    "name": "shap_summary_plot",
    "resultHeight": 571,
    "collapsed": false
   },
   "outputs": [],
   "source": "import shap \njust_shap = shap_pd.iloc[:, 10:]\njust_input_vals = shap_pd.iloc[:, :10].drop([\"LOAN_ID\",\"MORTGAGERESPONSE\", \"TIMESTAMP\"], axis=1)\n\nshap.summary_plot(np.array(just_shap), just_input_vals, feature_names = just_input_vals.columns)",
   "execution_count": null
  },
  {
   "cell_type": "code",
   "id": "eb050e2a-91e2-4139-b93e-31561e049fef",
   "metadata": {
    "language": "python",
    "name": "global_feature_importances",
    "collapsed": false,
    "resultHeight": 321
   },
   "outputs": [],
   "source": "shap_pd.iloc[:, 10:].mean(axis=0).sort_values(ascending=False)",
   "execution_count": null
  },
  {
   "cell_type": "code",
   "id": "14a03aa9-1f1a-4a4e-809e-b22e438d72aa",
   "metadata": {
    "language": "python",
    "name": "plot_home_purchase_explanation",
    "resultHeight": 851,
    "collapsed": false
   },
   "outputs": [],
   "source": "import seaborn as sns\n\nsns.scatterplot(data = shap_pd, x =\"LOAN_PURPOSE_NAME_Home purchase\", y = \"LOAN_PURPOSE_NAME_Home purchase_explanation\")",
   "execution_count": null
  },
  {
   "cell_type": "code",
   "id": "023a9b3c-0fd3-4d6e-b19e-6dcd0bd636f0",
   "metadata": {
    "language": "python",
    "name": "plot_income_explanation",
    "resultHeight": 850,
    "collapsed": false
   },
   "outputs": [],
   "source": "import seaborn as sns\n\nincome_0_to_1M = shap_pd[(shap_pd.INCOME>0) & (shap_pd.INCOME<1000000)]\nsns.scatterplot(data = income_0_to_1M, x =\"INCOME\", y = \"INCOME_explanation\")",
   "execution_count": null
  },
  {
   "cell_type": "markdown",
   "id": "df7a9ccc-e785-4a82-b9e9-97fd44d5acf2",
   "metadata": {
    "name": "Monitoring_section",
    "collapsed": false,
    "resultHeight": 74
   },
   "source": "# Model Monitoring setup"
  },
  {
   "cell_type": "code",
   "id": "e0751bdd-6c24-4c65-9247-aa90ebc1d376",
   "metadata": {
    "language": "python",
    "name": "create_table_from_test_data",
    "resultHeight": 0,
    "collapsed": false
   },
   "outputs": [],
   "source": "train.write.save_as_table(\"DEMO_MORTGAGE_LENDING_TRAIN\", mode=\"overwrite\")\ntest.write.save_as_table(\"DEMO_MORTGAGE_LENDING_TEST\", mode=\"overwrite\")",
   "execution_count": null
  },
  {
   "cell_type": "code",
   "id": "aabdf2be-87f8-4556-aa42-22e4a70515e1",
   "metadata": {
    "language": "python",
    "name": "create_stage",
    "resultHeight": 111,
    "collapsed": false
   },
   "outputs": [],
   "source": "session.sql(\"CREATE stage IF NOT EXISTS ML_STAGE\").collect()",
   "execution_count": null
  },
  {
   "cell_type": "code",
   "id": "21b2c090-5cc8-4847-982a-fb9b5e427616",
   "metadata": {
    "language": "python",
    "name": "define_sproc",
    "collapsed": false,
    "resultHeight": 495
   },
   "outputs": [],
   "source": "from snowflake import snowpark\nfrom snowflake.ml.registry import Registry\nimport joblib\nimport os\nimport logging\nfrom snowflake.ml.modeling.pipeline import Pipeline\nimport snowflake.ml.modeling.preprocessing as pp\nfrom snowflake.snowpark.types import StringType, IntegerType\nimport snowflake.snowpark.functions as F\n\n\ndef demo_inference_sproc(session: snowpark.Session, table_name: str, modelname: str, modelversion: str) -> str:\n    \n    database=session.get_current_database()\n    schema=session.get_current_schema()\n    reg = Registry(session=session)\n    m = reg.get_model(modelname)  # Fetch the model using the registry\n    mv = m.version(modelversion)\n    \n    input_table_name=table_name\n    pred_col = f'{modelversion}_PREDICTION'\n\n    # Read the temporary DataFrame\n    df = session.table(input_table_name)\n\n    # Perform prediction using the model\n    results = mv.run(df, function_name=\"predict\")  # 'results' is the output DataFrame with predictions\n    results = results.withColumnRenamed(\"MORTGAGE_PREDICTION\", pred_col)\n\n    # Write results to a temporary Snowflake table\n    temp_results_table = \"DEMO_TEMP_PREDICTION_RESULTS\"\n    results.write.save_as_table(temp_results_table, mode='overwrite')\n\n    \n    # # Execute the update statement\n\n    df = df.with_column(pred_col, F.lit(9999))\n    df.write.save_as_table(input_table_name, mode='overwrite')\n    update_sql1 = f\"\"\"\n    UPDATE {input_table_name} t\n    SET {pred_col} = r.{pred_col}\n    FROM DEMO_TEMP_PREDICTION_RESULTS r\n    WHERE t.LOAN_ID = r.LOAN_ID\n    AND t.TIMESTAMP=r.TIMESTAMP ;\n    \"\"\"\n    \n    # Execute the update statement\n    session.sql(update_sql1).collect()\n\n    return \"Success\"\n\n# Register the stored procedure\nsession.sproc.register(\n    func=demo_inference_sproc,\n    name=\"demo_mortgage_lending_inference_sproc\",\n    replace=True,\n    is_permanent=True,\n    stage_location=\"@ML_STAGE\",\n    packages=['joblib', 'snowflake-snowpark-python', 'snowflake-ml-python'],\n    return_type=StringType()\n)\n",
   "execution_count": null
  },
  {
   "cell_type": "code",
   "id": "da45031a-917e-4f6d-a2e4-068879791819",
   "metadata": {
    "language": "sql",
    "name": "gb_tree_train",
    "resultHeight": 111,
    "collapsed": false
   },
   "outputs": [],
   "source": "CALL demo_mortgage_lending_inference_sproc('DEMO_MORTGAGE_LENDING_TRAIN','MORTGAGE_LENDING_MLOPS_AB_TESTING_DEMO', 'GB_TREE');",
   "execution_count": null
  },
  {
   "cell_type": "code",
   "id": "0d18ea05-7d29-43a3-9baa-52509f3bb15e",
   "metadata": {
    "language": "sql",
    "name": "gb_tree_test",
    "collapsed": false,
    "resultHeight": 111
   },
   "outputs": [],
   "source": "CALL demo_mortgage_lending_inference_sproc('DEMO_MORTGAGE_LENDING_TEST','MORTGAGE_LENDING_MLOPS_AB_TESTING_DEMO', 'GB_TREE');",
   "execution_count": null
  },
  {
   "cell_type": "code",
   "id": "c1d2550b-46c7-4eb7-adaa-64c345711b1e",
   "metadata": {
    "language": "sql",
    "name": "gb_lin_train",
    "collapsed": false,
    "resultHeight": 111,
    "codeCollapsed": false
   },
   "outputs": [],
   "source": "CALL demo_mortgage_lending_inference_sproc('DEMO_MORTGAGE_LENDING_TRAIN','MORTGAGE_LENDING_MLOPS_AB_TESTING_DEMO', 'GB_LINEAR');",
   "execution_count": null
  },
  {
   "cell_type": "code",
   "id": "8245f482-19e9-4961-9cb2-801bf5948d52",
   "metadata": {
    "language": "sql",
    "name": "gb_lin_test",
    "collapsed": false,
    "resultHeight": 111,
    "codeCollapsed": false
   },
   "outputs": [],
   "source": "CALL demo_mortgage_lending_inference_sproc('DEMO_MORTGAGE_LENDING_TEST','MORTGAGE_LENDING_MLOPS_AB_TESTING_DEMO', 'GB_LINEAR');",
   "execution_count": null
  },
  {
   "cell_type": "code",
   "id": "ec05048c-a9d1-4ef9-bf39-5333f3fb56cb",
   "metadata": {
    "language": "sql",
    "name": "see_preds",
    "resultHeight": 251,
    "codeCollapsed": false,
    "collapsed": false
   },
   "outputs": [],
   "source": "select * FROM DEMO_MORTGAGE_LENDING_TEST limit 5",
   "execution_count": null
  },
  {
   "cell_type": "code",
   "id": "38a88ab4-7b22-414c-831d-5da2331e604b",
   "metadata": {
    "language": "python",
    "name": "set_up_monitoring_configs",
    "resultHeight": 0,
    "collapsed": false,
    "codeCollapsed": false
   },
   "outputs": [],
   "source": "# from snowflake.ml.monitoring.entities.model_monitor_config import ModelMonitorConfig, ModelMonitorSourceConfig\n\n\n# # Set up source/baseline table config for tree booster\n# tree_source_config = ModelMonitorSourceConfig(\n#     baseline = \"DEMO_MORTGAGE_LENDING_TRAIN\",\n#     source=\"DEMO_MORTGAGE_LENDING_TEST\",\n#     timestamp_column=\"TIMESTAMP\",\n#     prediction_score_columns=[\"GB_TREE_PREDICTION\"],\n#     actual_score_columns=[\"MORTGAGERESPONSE\"],\n#     id_columns=[\"LOAN_ID\"]\n# )\n\n# # Set up model config for tree booster\n# tree_monitor_config = ModelMonitorConfig(\n#     model_version=mv_tree,\n#     model_function_name=\"predict\",\n#     background_compute_warehouse_name=\"ML_WH\"\n# )\n\n# # Set up source/baseline table config for linear booster\n# linear_source_config = ModelMonitorSourceConfig(\n#     baseline = \"DEMO_MORTGAGE_LENDING_TRAIN\",\n#     source=\"DEMO_MORTGAGE_LENDING_TEST\",\n#     timestamp_column=\"TIMESTAMP\",\n#     prediction_score_columns=[\"GB_LINEAR_PREDICTION\"],\n#     actual_score_columns=[\"MORTGAGERESPONSE\"],\n#     id_columns=[\"LOAN_ID\"]\n# )\n\n# # Set up model config for linear booster\n# linear_monitor_config = ModelMonitorConfig(\n#     model_version=mv_linear,\n#     model_function_name=\"predict\",\n#     background_compute_warehouse_name=\"ML_WH\"\n# )",
   "execution_count": null
  },
  {
   "cell_type": "code",
   "id": "5438465c-ae49-4f63-be40-c79118e7fa98",
   "metadata": {
    "language": "python",
    "name": "add_model_monitors",
    "resultHeight": 0,
    "collapsed": false
   },
   "outputs": [],
   "source": "# # Add a new ModelMonitor\n# model_monitor = model_registry.add_monitor(\n#     name=\"GB_TREE_MORTGAGE_LENDING_MODEL_MONITOR\", \n#     source_config=tree_source_config,\n#     model_monitor_config=tree_monitor_config,\n# )\n\n\n# model_monitor = model_registry.add_monitor(\n#     name=\"GB_MORTGAGE_LENDING_MODEL_MONITOR\", \n#     source_config=linear_source_config,\n#     model_monitor_config=linear_monitor_config,\n# )",
   "execution_count": null
  },
  {
   "cell_type": "code",
   "id": "2f6be548-47cb-4a91-92ee-a5f42c41e756",
   "metadata": {
    "language": "sql",
    "name": "create_model_monitor_tree_SQL",
    "resultHeight": 111,
    "collapsed": false
   },
   "outputs": [],
   "source": "CREATE OR REPLACE MODEL MONITOR GB_TREE_MORTGAGE_LENDING_MODEL_MONITOR_SQL\nWITH\n    MODEL=MORTGAGE_LENDING_MLOPS_AB_TESTING_DEMO\n    VERSION=GB_TREE\n    FUNCTION=predict\n    SOURCE=DEMO_MORTGAGE_LENDING_TEST\n    BASELINE=DEMO_MORTGAGE_LENDING_TRAIN\n    TIMESTAMP_COLUMN=TIMESTAMP\n    PREDICTION_CLASS_COLUMNS=(GB_TREE_PREDICTION)  \n    ACTUAL_CLASS_COLUMNS=(MORTGAGERESPONSE)\n    ID_COLUMNS=(LOAN_ID)\n    WAREHOUSE=ML_WH\n    REFRESH_INTERVAL='1 min'\n    AGGREGATION_WINDOW='1 day';",
   "execution_count": null
  },
  {
   "cell_type": "code",
   "id": "60965976-f17f-42bc-92ae-e43030bba54e",
   "metadata": {
    "language": "sql",
    "name": "create_model_monitor_linear_SQL",
    "resultHeight": 111,
    "collapsed": false
   },
   "outputs": [],
   "source": "CREATE OR REPLACE MODEL MONITOR DEMO_MORTGAGE_LENDING_MODEL_MONITOR_SQL\nWITH\n    MODEL=MORTGAGE_LENDING_MLOPS_AB_TESTING_DEMO\n    VERSION=GB_LINEAR\n    FUNCTION=predict\n    SOURCE=DEMO_MORTGAGE_LENDING_TEST\n    BASELINE=DEMO_MORTGAGE_LENDING_TRAIN\n    TIMESTAMP_COLUMN=TIMESTAMP\n    PREDICTION_CLASS_COLUMNS=(GB_LINEAR_PREDICTION)  \n    ACTUAL_CLASS_COLUMNS=(MORTGAGERESPONSE)\n    ID_COLUMNS=(LOAN_ID)\n    WAREHOUSE=ML_WH\n    REFRESH_INTERVAL='1 min'\n    AGGREGATION_WINDOW='1 day';",
   "execution_count": null
  },
  {
   "cell_type": "markdown",
   "id": "36b7dece-381c-42c9-af56-b5e85c50e4d5",
   "metadata": {
    "name": "DEBUG_MONITORING_FINDINGS",
    "collapsed": false,
    "resultHeight": 74
   },
   "source": "# Debug Montitoring Findings [WIP]"
  },
  {
   "cell_type": "code",
   "id": "10ac9b54-00c6-4a32-8773-f16f3b4d2ca9",
   "metadata": {
    "language": "python",
    "name": "start_debug",
    "resultHeight": 0,
    "collapsed": false
   },
   "outputs": [],
   "source": "# debug_df = session.table(\"DEMO_MORTGAGE_LENDING_TEST\").to_pandas()\n# low_accuracy_period= debug_df[(debug_df.TIMESTAMP>datetime.datetime(2024,9,1)) & (debug_df.TIMESTAMP<datetime.datetime(2024,9,30))]\n# f1_score(low_accuracy_period.MORTGAGERESPONSE, low_accuracy_period.GB_TREE_PREDICTION)",
   "execution_count": null
  },
  {
   "cell_type": "markdown",
   "metadata": {
    "jp-MarkdownHeadingCollapsed": true,
    "tags": [],
    "name": "conclusion",
    "resultHeight": 202,
    "collapsed": false
   },
   "source": "## Conclusion\n\n#### 🛠️ Snowflake Feature Store tracks feature definitions and maintains lineage of sources and destinations 🛠️\n#### 🚀 Snowflake Model Registry gives users a secure and flexible framework to deploy track and monitor models 🚀\n#### 🔮 All model versions logged in the Model Registry can be accessed for inference, explainability, lineage tracking, visibility and more 🔮\n",
   "id": "ce110000-1111-2222-3333-ffffff000036"
  }
 ]
}